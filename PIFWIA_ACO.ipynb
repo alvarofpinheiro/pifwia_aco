{
  "nbformat": 4,
  "nbformat_minor": 0,
  "metadata": {
    "colab": {
      "name": "PIFWIA_ACO.ipynb",
      "provenance": [],
      "collapsed_sections": [],
      "include_colab_link": true
    },
    "kernelspec": {
      "name": "python3",
      "display_name": "Python 3"
    }
  },
  "cells": [
    {
      "cell_type": "markdown",
      "metadata": {
        "id": "view-in-github",
        "colab_type": "text"
      },
      "source": [
        "<a href=\"https://colab.research.google.com/github/alvarofpinheiro/pifwia_aco/blob/main/PIFWIA_ACO.ipynb\" target=\"_parent\"><img src=\"https://colab.research.google.com/assets/colab-badge.svg\" alt=\"Open In Colab\"/></a>"
      ]
    },
    {
      "cell_type": "markdown",
      "source": [
        "ACO - Ant Colony Optimization ou Otimização da Colônia de Formigas é uma metaheurística proposta pelo pesquisador Marco Dorigo em 1992 para resolver problemas de otimização inspirado no comportamento das formigas ao saírem de sua colônia para encontrar comida, buscando a solução de problemas computacionais que envolvem procura de caminhos em grafos.\n",
        "\n",
        "Dorigo, M.; Maniezzo, V.; Colorni, A. Ant system: optimization by a colony of cooperating agents. IEEE Transactions on Systems, Man, and Cybernetics (Volume: 26, Issue: 1). https://doi.org/10.1109/3477.484436, 1996."
      ],
      "metadata": {
        "id": "8Z1Resfr-roy"
      }
    },
    {
      "cell_type": "code",
      "source": [
        "#instala biblioteca Orange Canvas\n",
        "!pip install Orange3"
      ],
      "metadata": {
        "id": "BK10i8GhCHek"
      },
      "execution_count": null,
      "outputs": []
    },
    {
      "cell_type": "code",
      "source": [
        "#importa bibliotecas\n",
        "from numpy.random import choice\n",
        "from scipy import spatial\n",
        "import matplotlib.pyplot as plt\n",
        "import random\n",
        "import math\n",
        "from sklearn import metrics\n",
        "import Orange"
      ],
      "metadata": {
        "id": "0OwFfk8q86IA"
      },
      "execution_count": null,
      "outputs": []
    },
    {
      "cell_type": "code",
      "source": [
        "#define os hiperparâmetros\n",
        "DIMENSOES = 2 #determina a quantidade de dimensões do problema\n",
        "ITERACOES = 200 #quantiddade máxima de ciclos (episódios) especificando quantas explorações podem ser realizadas\n",
        "COLONIA = 40 #tamanho da população correspondente ao número de formigas no formigueiro\n",
        "FONTES_ALIMENTACAO = 20 #quantidade de pontos no grafo representando as coordenadas das dimensões do problema\n",
        "E1 = -5 #extremo esquerdo eixo x\n",
        "E2 = 5 #extremo direito eixo x\n",
        "E3 = 0 #extremo inferior eixo y\n",
        "E4 = 100 #extremo superior eixo y\n",
        "LIMITES = [E1,E4] #(bound) determina os valores maximos e minimos do espaço de busca (área de busca de fontes de alimentação)\n",
        "FCUSTO = 'rota' #(fitness) define a aptidão da formiga na possível solução do problema\n",
        "E = 0.2 #taxa de evaporação do feromônio nos caminhos\n",
        "ALFA = 0.5 #coeficente de importância da qtde feromônio para determinar probabilidade de escolha do caminho\n",
        "BETA = 0.7 #coeficente de importância do caminho para determinar a probabilidade de escolha do caminho"
      ],
      "metadata": {
        "id": "gpf8UTcu8069"
      },
      "execution_count": null,
      "outputs": []
    },
    {
      "cell_type": "code",
      "source": [
        "#importa dados\n",
        "from google.colab import files  \n",
        "files.upload()"
      ],
      "metadata": {
        "id": "IbQM0PwjCP5K"
      },
      "execution_count": null,
      "outputs": []
    },
    {
      "cell_type": "code",
      "source": [
        "#instancia objeto de dados com base no caminho gerado na importação do arquivo\n",
        "dados = Orange.data.Table(\"/content/dados.csv\")"
      ],
      "metadata": {
        "id": "jMMmImxnCSNv"
      },
      "execution_count": null,
      "outputs": []
    },
    {
      "cell_type": "code",
      "source": [
        "#explora os metadados e dados da arquivo importado\n",
        "qtde_campos = len(dados.domain.attributes)\n",
        "qtde_cont = sum(1 for a in dados.domain.attributes if a.is_continuous)\n",
        "qtde_disc = sum(1 for a in dados.domain.attributes if a.is_discrete)\n",
        "print(\"%d metadados: %d continuos, %d discretos\" % (qtde_campos, qtde_cont, qtde_disc))\n",
        "print(\"Nome dos metadados:\", \", \".join(dados.domain.attributes[i].name for i in range(qtde_campos)),)\n",
        "dados.domain.attributes #explora os domínios dos atributos (campos da base de dados)\n",
        "print(\"Registros:\", len(dados)) #explora os dados (quantidade de registros da base de dados)\n",
        "i = 0 #exibe os primeiros registros para análise dos dados importados\n",
        "for d in dados[:20]:\n",
        "  i += 1\n",
        "  print(i, d)"
      ],
      "metadata": {
        "id": "rnAAAOA6CUvh"
      },
      "execution_count": null,
      "outputs": []
    },
    {
      "cell_type": "code",
      "source": [
        "#cria arrays das dimensões do problema a ser otimizado\n",
        "periodo = []\n",
        "complexidade = [] #1-muito baixa complexidade;2-baixa complexidade;3-média complexidade;4-alta complexidade;e,5-muito alta complexidade\n",
        "pagina = []\n",
        "prazo = []\n",
        "revisao = []\n",
        "entrega = []\n",
        "i = 0\n",
        "for d in dados[:COLONIA]:\n",
        "  periodo.append(d[1])\n",
        "  complexidade.append(d[2])\n",
        "  pagina.append(d[3])\n",
        "  prazo.append(d[4])\n",
        "  revisao.append(d[5])\n",
        "  entrega.append(d[6])\n",
        "  print(\"id:\",i,\"período:\",periodo[i],\"complexidade:\",complexidade[i],\"página:\",pagina[i],\"prazo:\",prazo[i],\"revisões:\",revisao[i],\"entrega:\",entrega[i])\n",
        "  per = periodo[i]\n",
        "  cpx = complexidade[i]\n",
        "  pag = pagina[i]\n",
        "  prz = prazo[i]\n",
        "  rev = revisao[i]\n",
        "  ent = entrega[i]\n",
        "  i += 1"
      ],
      "metadata": {
        "id": "3JEx3C3u83EF"
      },
      "execution_count": null,
      "outputs": []
    },
    {
      "cell_type": "code",
      "source": [
        "#função custo ou objetivo ou aptidão ou otimização ou fitness - usada para buscar o melhor ponto dentro de um espaço de buscao (melhor global) sem ficar preso em um melhor local\n",
        "def fitness(problema, posicoes):\n",
        "  total = 0.0\n",
        "  if problema == 'rosenbrock':\n",
        "    for i in range(DIMENSOES-1):\n",
        "      total += 100*(posicoes[i+1] - posicoes[i]**2)**2 + (1-posicoes[i])**2\n",
        "  elif problema == 'esfera':\n",
        "    for i in range(DIMENSOES):\n",
        "      total += posicoes[i]**2\n",
        "  elif problema == 'custo':\n",
        "    for i in range(DIMENSOES-1):\n",
        "      total += 1 / abs(sum([coord ** 2 for coord in posicao]))\n",
        "  elif problema == 'rota':\n",
        "    denominador = sum([(caminho.feromonio)**ALFA * (1 / caminho.comprimento)**BETA for caminho in possiveis_caminhos])\n",
        "    distribuicao_probabilidades = None\n",
        "    if denominador == 0:\n",
        "      distribuicao_probabilidades = [1 / len(possiveis_caminhos)  for _ in possiveis_caminhos]\n",
        "    else:\n",
        "      distribuicao_probabilidades = [((caminho.feromonio)**ALFA * (1 / caminho.comprimento)**BETA) / denominador for caminho in possiveis_caminhos]\n",
        "    total = choice(possiveis_caminhos, 1, p=distribuicao_probabilidades)[0]\n",
        "  else:\n",
        "    print('Problema não encontrado!')\n",
        "  return total"
      ],
      "metadata": {
        "id": "bqllCEZK8Y9J"
      },
      "execution_count": null,
      "outputs": []
    },
    {
      "cell_type": "code",
      "source": [
        "#formiga - unidade base da otimização, responsável por depositar o feromônio pelos caminhos que percorrem para indicar a qualidade do mesmo\n",
        "class Formiga:\n",
        "  def __init__(self, ponto_atual):\n",
        "    self.ponto_atual = ponto_atual\n",
        "    self.rota = [ponto_atual]\n",
        "  def andar(self, ponto):\n",
        "    self.ponto_atual = ponto\n",
        "    self.rota.append(ponto)"
      ],
      "metadata": {
        "id": "e4JPbcQh8y84"
      },
      "execution_count": null,
      "outputs": []
    },
    {
      "cell_type": "code",
      "source": [
        "#ponto - representação de uma coordenada no espaço\n",
        "class Ponto:\n",
        "  def __init__(self, x, y):\n",
        "    self.x = x\n",
        "    self.y = y"
      ],
      "metadata": {
        "id": "ZThbnld28xDL"
      },
      "execution_count": null,
      "outputs": []
    },
    {
      "cell_type": "code",
      "source": [
        "#caminho - ligação entre dois pontos\n",
        "class Caminho:\n",
        "  def __init__(self, ponto_i, ponto_j):\n",
        "    self.ponto_i = ponto_i\n",
        "    self.ponto_j = ponto_j\n",
        "    self.comprimento = math.sqrt((ponto_i.x - ponto_j.x)**2 + (ponto_i.y - ponto_j.y)**2)\n",
        "    self.feromonio = 0\n",
        "    self.formigas_passantes = []\n",
        "  def contem(self, formiga):\n",
        "    if self.ponto_i == formiga.ponto_atual:\n",
        "      return self.ponto_j not in formiga.rota\n",
        "    elif self.ponto_j == formiga.ponto_atual:\n",
        "      return self.ponto_i not in formiga.rota\n",
        "    else:\n",
        "      return False\n",
        "  def ponto_adjacente(self, ponto):\n",
        "    if self.ponto_i == ponto:\n",
        "      return self.ponto_j\n",
        "    elif self.ponto_j == ponto:\n",
        "      return self.ponto_i\n",
        "    else:\n",
        "      return None"
      ],
      "metadata": {
        "id": "Q58BjIrj8t66"
      },
      "execution_count": null,
      "outputs": []
    },
    {
      "cell_type": "code",
      "source": [
        "#grafo - representação de um conjunto de pontos ligados por caminhos\n",
        "class Grafo:\n",
        "  def __init__(self, caminhos):\n",
        "    self.caminhos = caminhos\n",
        "    self.melhor_rota = []\n",
        "    self.comprimento_melhor_rota = 0\n",
        "  def atualizas_melhor_rota(self, melhor_rota):\n",
        "    self.melhor_rota = melhor_rota\n",
        "    self.comprimento_melhor_rota = sum([math.sqrt((i.x - j.x)**2 + (i.y - j.y)**2) for [i, j] in melhor_rota])\n",
        "  def possiveis_caminhos(self, formiga):\n",
        "    return [caminho for caminho in self.caminhos if caminho.contem(formiga)]"
      ],
      "metadata": {
        "id": "cIOe8pz-8m1m"
      },
      "execution_count": null,
      "outputs": []
    },
    {
      "cell_type": "code",
      "source": [
        "#inicializa pontos - fontes de alimentação das formigas que correspondem dimensões do problema\n",
        "pontos = []\n",
        "for i in range(FONTES_ALIMENTACAO):\n",
        "  cpx = complexidade[i]\n",
        "  pag = pagina[i]\n",
        "  pontos.append(Ponto(cpx, pag))"
      ],
      "metadata": {
        "id": "-Ww7nLWW8kpM"
      },
      "execution_count": null,
      "outputs": []
    },
    {
      "cell_type": "code",
      "source": [
        "#inicializa caminhos\n",
        "caminhos = []\n",
        "i = 0\n",
        "while i < FONTES_ALIMENTACAO - 1:\n",
        "  j = i + 1\n",
        "  while j < FONTES_ALIMENTACAO:\n",
        "    caminhos.append(Caminho(pontos[i], pontos[j]))\n",
        "    j += 1\n",
        "  i += 1"
      ],
      "metadata": {
        "id": "4oZhSb5-8icr"
      },
      "execution_count": null,
      "outputs": []
    },
    {
      "cell_type": "code",
      "source": [
        "#posiciona as fontes de alimentação das formigas no espaço de busca\n",
        "grafo = Grafo(caminhos)\n",
        "for ponto in pontos:\n",
        "  plt.plot(ponto.x, ponto.y,  markersize=10, marker='o', color='r')\n",
        "x = []\n",
        "y = []\n",
        "for caminho in caminhos:\n",
        "  x_i = caminho.ponto_i.x\n",
        "  x_j = caminho.ponto_j.x\n",
        "  y_i = caminho.ponto_i.y\n",
        "  y_j = caminho.ponto_j.y\n",
        "  x_texto = (x_i + x_j) / 2\n",
        "  y_texto = (y_i + y_j) / 2\n",
        "  #plt.text(x_texto, y_texto, \"{:.2f}\".format(caminho.comprimento))\n",
        "  x.append(x_i)\n",
        "  x.append(x_j)\n",
        "  y.append(y_i)\n",
        "  y.append(y_j)\n",
        "print(\"Plano Cartesiano\")\n",
        "plt.axis([E1,E2,E3,E4])\n",
        "plt.plot(0,0, marker='*', markersize=10, color='b')\n",
        "plt.plot(x,y, color='c', linewidth=0.3)\n",
        "plt.show()\n",
        "gx = x\n",
        "gy = y\n",
        "print(\"\")"
      ],
      "metadata": {
        "id": "EF4e5Rue8f4m"
      },
      "execution_count": null,
      "outputs": []
    },
    {
      "cell_type": "code",
      "source": [
        "#inicializa população (colonia)\n",
        "def inicializar_colonia():\n",
        "  formigas = []\n",
        "  for _ in range(COLONIA):\n",
        "    formigas.append(Formiga(random.choice(pontos)))\n",
        "  return formigas"
      ],
      "metadata": {
        "id": "iBd423U58bLf"
      },
      "execution_count": null,
      "outputs": []
    },
    {
      "cell_type": "code",
      "source": [
        "#calcula rota (fitness)\n",
        "def distancia_rota(rota):\n",
        "  distancia_rota = 0\n",
        "  for i in range(0, len(rota) - 1):\n",
        "    distancia = math.sqrt((rota[i].x - rota[i + 1].x)**2 + (rota[i].y - rota[i + 1].y)**2)\n",
        "    distancia_rota += distancia\n",
        "  return distancia_rota"
      ],
      "metadata": {
        "id": "2LrDKwJY8W2L"
      },
      "execution_count": null,
      "outputs": []
    },
    {
      "cell_type": "code",
      "source": [
        "#atualiza o feromônio\n",
        "def atualizar_feromonios(caminhos):\n",
        "  for caminho in caminhos:\n",
        "    soma_heuristica = sum([1 / distancia_rota(formiga.rota) for formiga in caminho.formigas_passantes])\n",
        "    caminho.feromonio = (1 - E) * caminho.feromonio + soma_heuristica # p = evaporação do feromônico\n",
        "    caminho.formigas_passantes = []"
      ],
      "metadata": {
        "id": "Mtb8owVz8U2e"
      },
      "execution_count": null,
      "outputs": []
    },
    {
      "cell_type": "code",
      "source": [
        "#calcula o movimento das formigas\n",
        "def movimentar_formiga(formiga, grafo):\n",
        "  while True:\n",
        "    possiveis_caminhos = grafo.possiveis_caminhos(formiga)\n",
        "    if possiveis_caminhos == []:\n",
        "      break\n",
        "    caminho_escolhido = fitness(possiveis_caminhos)\n",
        "    caminho_escolhido.formigas_passantes.append(formiga)\n",
        "    formiga.andar(caminho_escolhido.ponto_adjacente(formiga.ponto_atual))"
      ],
      "metadata": {
        "id": "Qh6l7o4m8OC5"
      },
      "execution_count": null,
      "outputs": []
    },
    {
      "cell_type": "code",
      "source": [
        "#otimiza as rotas\n",
        "melhor_rota = None\n",
        "distancia_melhor_sequencia = 0\n",
        "lista_melhores_valores = []\n",
        "for _ in range(ITERACOES):\n",
        "  print(\"Iteração: {:.0f}\".format(_+1))\n",
        "  formigas = inicializar_colonia()\n",
        "  for formiga in formigas:\n",
        "    movimentar_formiga(formiga, grafo)\n",
        "    if melhor_rota is None or distancia_rota(melhor_rota) > distancia_rota(formiga.rota):\n",
        "      melhor_rota = formiga.rota\n",
        "      distancia_melhor_sequencia = distancia_rota(formiga.rota)\n",
        "      lista_melhores_valores.append(distancia_melhor_sequencia)\n",
        "  atualizar_feromonios(grafo.caminhos)\n",
        "  #mostrando a melhor rota a cada iteracao\n",
        "  plt.axis([E1,E2,E3,E4])\n",
        "  plt.plot(0,0, marker='*', markersize=10, color='b')\n",
        "  for ponto in pontos:\n",
        "    plt.plot(ponto.x, ponto.y, markersize=10, marker='o', color='r')\n",
        "  x = []\n",
        "  y = []\n",
        "  for caminho in caminhos:\n",
        "    x_i = caminho.ponto_i.x\n",
        "    x_j = caminho.ponto_j.x\n",
        "    y_i = caminho.ponto_i.y\n",
        "    y_j = caminho.ponto_j.y\n",
        "    x_texto = (x_i + x_j) / 2\n",
        "    y_texto = (y_i + y_j) / 2\n",
        "    #plt.text(x_texto, y_texto, \"{:.2f}\".format(caminho.comprimento))\n",
        "    x.append(x_i)\n",
        "    x.append(x_j)\n",
        "    y.append(y_i)\n",
        "    y.append(y_j)\n",
        "  plt.plot(x, y, color='c', linewidth=0.3)\n",
        "  x = []\n",
        "  y = []\n",
        "  for ponto in melhor_rota:\n",
        "    x.append(ponto.x)\n",
        "    y.append(ponto.y)\n",
        "  plt.plot(x, y, color='r', linewidth=0.8)\n",
        "  plt.show()\n",
        "  print(\"Menor Distância: {:.2f} \".format(distancia_melhor_sequencia) + \"\\n\")"
      ],
      "metadata": {
        "id": "w3rmDWkI78C-"
      },
      "execution_count": null,
      "outputs": []
    },
    {
      "cell_type": "code",
      "source": [
        "#exibe a curva de convergência das formigas\n",
        "x = []\n",
        "y = []\n",
        "for i in range(len(lista_melhores_valores)):\n",
        "  x.append(i)\n",
        "  y.append(lista_melhores_valores[i])\n",
        "plt.plot(x, y)\n",
        "plt.title(\"Curva de Convergência do ACO\")\n",
        "plt.xlabel(\"Tempo\")\n",
        "plt.ylabel(\"Iterações\")\n",
        "plt.tight_layout()"
      ],
      "metadata": {
        "id": "BmT20D4o73gF"
      },
      "execution_count": null,
      "outputs": []
    },
    {
      "cell_type": "code",
      "source": [
        "#exibe das posições e otimizações calculadas\n",
        "posicao_inicial = []\n",
        "posicao_otimizada = []\n",
        "for i in range(COLONIA):\n",
        "  posicao_inicial.append(FORMIGAS[i].posicao)\n",
        "  posicao_otimizada.append([FORMIGAS[i].fitness,PEIXES[i].posicao[1]])\n",
        "  print(\"i:\",i,\"posição:\",posicao_inicial[i],\"otimização:\",posicao_otimizada[i])\n",
        "#y = []\n",
        "#ỹ = []\n",
        "#for i in range(COLONIA):\n",
        "#  y.append(int(FORMIGAS[i].posicao[0]))\n",
        "#  ỹ.append(int(FORMIGAS[i].fitness))\n",
        "#print('A:', metrics.accuracy_score(y,ỹ))\n",
        "#print('P:', metrics.precision_score(y,ỹ,average='macro'))\n",
        "#print('R:', metrics.recall_score(y,ỹ,average='macro'))\n",
        "#print('F:', metrics.f1_score(y,ỹ,average='macro'))"
      ],
      "metadata": {
        "id": "5QSbgDiVrZ70"
      },
      "execution_count": null,
      "outputs": []
    }
  ]
}