{
  "nbformat": 4,
  "nbformat_minor": 0,
  "metadata": {
    "colab": {
      "name": "PIFWIA_ACO.ipynb",
      "provenance": [],
      "collapsed_sections": [],
      "include_colab_link": true
    },
    "kernelspec": {
      "name": "python3",
      "display_name": "Python 3"
    }
  },
  "cells": [
    {
      "cell_type": "markdown",
      "metadata": {
        "id": "view-in-github",
        "colab_type": "text"
      },
      "source": [
        "<a href=\"https://colab.research.google.com/github/alvarofpinheiro/pifwia_aco/blob/main/PIFWIA_ACO.ipynb\" target=\"_parent\"><img src=\"https://colab.research.google.com/assets/colab-badge.svg\" alt=\"Open In Colab\"/></a>"
      ]
    },
    {
      "cell_type": "markdown",
      "metadata": {
        "id": "teXehQ2P-A7E"
      },
      "source": [
        "Ant Colony Optimization (ACO) Encontrar a melhor rota (menor distância total) que percorre todos os pontos de um grafo gerado aleatoriamente e completamente conectado (cada ponto tem um caminho para todos os outros).\n",
        "\n",
        "Kazharov, A.; Kureichik, V. Ant colony optimization algorithms for solving transportation problems. Journal of Computer and Systems Sciences International, Vol. 49. No. 1. pp. 30–43. https://doi.org/10.1134/S1064230710010053, 2010.\n",
        "\n",
        "\n",
        "[Trilha de feromônio](https://upload.wikimedia.org/wikipedia/commons/thumb/a/af/Aco_branches.svg/2000px-Aco_branches.svg.png)"
      ]
    },
    {
      "cell_type": "code",
      "metadata": {
        "id": "0P6tBY50QOHR"
      },
      "source": [
        "#Bibliotecas\n",
        "from numpy.random import choice\n",
        "from scipy import spatial\n",
        "import matplotlib.pyplot as plt\n",
        "import random\n",
        "import math"
      ],
      "execution_count": null,
      "outputs": []
    },
    {
      "cell_type": "code",
      "metadata": {
        "id": "wcLDg_NGgHXG"
      },
      "source": [
        "# formiga é a unidades base da otimização, responsável por depositar o feromônio pelos caminhos que percorrem para indicar a qualidade do mesmo\n",
        "class Formiga:\n",
        "  def __init__(self, ponto_atual):\n",
        "    self.ponto_atual = ponto_atual\n",
        "    self.rota = [ponto_atual]\n",
        "  def andar(self, ponto):\n",
        "    self.ponto_atual = ponto\n",
        "    self.rota.append(ponto)\n",
        "\n",
        "# ponto é a representação de uma coordenada no espaço\n",
        "class Ponto:\n",
        "  def __init__(self, x, y):\n",
        "    self.x = x\n",
        "    self.y = y\n",
        "\n",
        "# caminho é a ligação entre dois pontos\n",
        "class Caminho:\n",
        "  def __init__(self, ponto_i, ponto_j):\n",
        "    self.ponto_i = ponto_i\n",
        "    self.ponto_j = ponto_j\n",
        "    self.comprimento = math.sqrt((ponto_i.x - ponto_j.x)**2 + (ponto_i.y - ponto_j.y)**2)\n",
        "    self.feromonio = 0\n",
        "    self.formigas_passantes = []\n",
        "  def contem(self, formiga):\n",
        "    if self.ponto_i == formiga.ponto_atual:\n",
        "      return self.ponto_j not in formiga.rota\n",
        "    elif self.ponto_j == formiga.ponto_atual:\n",
        "      return self.ponto_i not in formiga.rota\n",
        "    else:\n",
        "      return False\n",
        "  def ponto_adjacente(self, ponto):\n",
        "    if self.ponto_i == ponto:\n",
        "      return self.ponto_j\n",
        "    elif self.ponto_j == ponto:\n",
        "      return self.ponto_i\n",
        "    else:\n",
        "      return None\n",
        "\n",
        "# grafo é a representação de um conjunto de pontos ligados por caminhos.\n",
        "class Grafo:\n",
        "  def __init__(self, caminhos):\n",
        "    self.caminhos = caminhos\n",
        "    self.melhor_rota = []\n",
        "    self.comprimento_melhor_rota = 0\n",
        "  def atualizas_melhor_rota(self, melhor_rota):\n",
        "    self.melhor_rota = melhor_rota\n",
        "    self.comprimento_melhor_rota = sum([math.sqrt((i.x - j.x)**2 + (i.y - j.y)**2) for [i, j] in melhor_rota])\n",
        "  def possiveis_caminhos(self, formiga):\n",
        "    return [caminho for caminho in self.caminhos if caminho.contem(formiga)]"
      ],
      "execution_count": null,
      "outputs": []
    },
    {
      "cell_type": "code",
      "metadata": {
        "id": "5KtWKiPBN-3L"
      },
      "source": [
        "#Hiperparâmetros\n",
        "f = 5 # quantidade de formigas na colônia\n",
        "e = 0.2 # taxa de evaporação do feromônio nos caminhos\n",
        "alfa = 0.5 # coeficente de importância da qtde feromônio para determinar probabilidade de escolha do caminho\n",
        "beta = 0.7 # coeficente de importância do caminho para determinar a probabilidade de escolha do caminho\n",
        "iteracoes = 15 # quantidade de iterações que irão acontecer até a parada da otimização\n",
        "qtd_pontos = 5 # quantidade de pontos no grafo"
      ],
      "execution_count": null,
      "outputs": []
    },
    {
      "cell_type": "code",
      "metadata": {
        "id": "r9wb0JXfPeVv"
      },
      "source": [
        "# criando os pontos\n",
        "pontos = []\n",
        "for _ in range(qtd_pontos):\n",
        "  pontos.append(Ponto(random.uniform(-100, 100), random.uniform(-100, 100)))\n",
        "\n",
        "# criando os caminhos\n",
        "caminhos = []\n",
        "i = 0\n",
        "while i < qtd_pontos - 1:\n",
        "  j = i + 1\n",
        "  while j < qtd_pontos:\n",
        "    caminhos.append(Caminho(pontos[i], pontos[j]))\n",
        "    j += 1\n",
        "  i += 1\n",
        "\n",
        "# criando o grafo\n",
        "grafo = Grafo(caminhos)\n",
        "for ponto in pontos:\n",
        "    plt.plot(ponto.x, ponto.y, marker='o', color='r')\n",
        "x = []\n",
        "y = []\n",
        "for caminho in caminhos:\n",
        "  x_i = caminho.ponto_i.x\n",
        "  x_j = caminho.ponto_j.x\n",
        "  y_i = caminho.ponto_i.y\n",
        "  y_j = caminho.ponto_j.y\n",
        "  x_texto = (x_i + x_j) / 2\n",
        "  y_texto = (y_i + y_j) / 2\n",
        "  plt.text(x_texto, y_texto, \"{:.2f}\".format(caminho.comprimento))\n",
        "  x.append(x_i)\n",
        "  x.append(x_j)\n",
        "  y.append(y_i)\n",
        "  y.append(y_j)\n",
        "\n",
        "# plotando o gráfico\n",
        "plt.plot(x, y, color='c')\n",
        "plt.show()\n",
        "gx = x\n",
        "gy = y"
      ],
      "execution_count": null,
      "outputs": []
    },
    {
      "cell_type": "code",
      "metadata": {
        "id": "kFI0ttD99dW8"
      },
      "source": [
        "# número de formigas\n",
        "def inicializar_colonia():\n",
        "  formigas = []\n",
        "  for _ in range(f):\n",
        "    formigas.append(Formiga(random.choice(pontos)))\n",
        "  return formigas\n",
        "\n",
        "# escolhendo o caminho\n",
        "def escolher_caminho(possiveis_caminhos):\n",
        "  denominador = sum([(caminho.feromonio)**alfa * (1 / caminho.comprimento)**beta for caminho in possiveis_caminhos])\n",
        "  distribuicao_probabilidades = None\n",
        "  if denominador == 0:\n",
        "    distribuicao_probabilidades = [1 / len(possiveis_caminhos)  for _ in possiveis_caminhos]\n",
        "  else:\n",
        "    distribuicao_probabilidades = [((caminho.feromonio)**alfa * (1 / caminho.comprimento)**beta) / denominador for caminho in possiveis_caminhos]\n",
        "  return choice(possiveis_caminhos, 1, p=distribuicao_probabilidades)[0]\n",
        "\n",
        "# calculando a rota\n",
        "def distancia_rota(rota):\n",
        "  distancia_rota = 0\n",
        "  for i in range(0, len(rota) - 1):\n",
        "    distancia = math.sqrt((rota[i].x - rota[i + 1].x)**2 + (rota[i].y - rota[i + 1].y)**2)\n",
        "    distancia_rota += distancia\n",
        "  return distancia_rota\n",
        "\n",
        "# atualizando o feromônio\n",
        "def atualizar_feromonios(caminhos):\n",
        "  for caminho in caminhos:\n",
        "    soma_heuristica = sum([1 / distancia_rota(formiga.rota) for formiga in caminho.formigas_passantes])\n",
        "    caminho.feromonio = (1 - e) * caminho.feromonio + soma_heuristica # p = evaporação do feromônico\n",
        "    caminho.formigas_passantes = []\n",
        "\n",
        "# movimentando as formigas\n",
        "def movimentar_formiga(formiga, grafo):\n",
        "  while True:\n",
        "    possiveis_caminhos = grafo.possiveis_caminhos(formiga)\n",
        "    if possiveis_caminhos == []:\n",
        "      break\n",
        "    caminho_escolhido = escolher_caminho(possiveis_caminhos)\n",
        "    caminho_escolhido.formigas_passantes.append(formiga)\n",
        "    formiga.andar(caminho_escolhido.ponto_adjacente(formiga.ponto_atual))"
      ],
      "execution_count": null,
      "outputs": []
    },
    {
      "cell_type": "code",
      "metadata": {
        "id": "GCM6-mRoVnTE"
      },
      "source": [
        "#Realiza a otimização exibindo os grafos\n",
        "melhor_rota = None\n",
        "distancia_melhor_rota = 0\n",
        "\n",
        "# loop\n",
        "for _ in range(iteracoes):\n",
        "  print(\"Iteração: {:.0f}\".format(_))\n",
        "  formigas = inicializar_colonia()\n",
        "  for formiga in formigas:\n",
        "    movimentar_formiga(formiga, grafo)\n",
        "    if melhor_rota is None or distancia_rota(melhor_rota) > distancia_rota(formiga.rota):\n",
        "      melhor_rota = formiga.rota\n",
        "      distancia_melhor_rota = distancia_rota(formiga.rota)\n",
        "  atualizar_feromonios(grafo.caminhos)\n",
        "\n",
        "  # mostrando a melhor rota a cada iteracao\n",
        "  for ponto in pontos:\n",
        "    plt.plot(ponto.x, ponto.y, marker='o', color='r')\n",
        "  x = []\n",
        "  y = []\n",
        "  for caminho in caminhos:\n",
        "    x_i = caminho.ponto_i.x\n",
        "    x_j = caminho.ponto_j.x\n",
        "    y_i = caminho.ponto_i.y\n",
        "    y_j = caminho.ponto_j.y\n",
        "    x_texto = (x_i + x_j) / 2\n",
        "    y_texto = (y_i + y_j) / 2\n",
        "    plt.text(x_texto, y_texto, \"{:.2f}\".format(caminho.comprimento))\n",
        "    x.append(x_i)\n",
        "    x.append(x_j)\n",
        "    y.append(y_i)\n",
        "    y.append(y_j)\n",
        "  plt.plot(x, y, color='c')\n",
        "  x = []\n",
        "  y = []\n",
        "  for ponto in melhor_rota:\n",
        "    x.append(ponto.x)\n",
        "    y.append(ponto.y)\n",
        "\n",
        "  plt.plot(x, y, color='y')\n",
        "  plt.show()\n",
        "  print(\"Melhor rota: {:.2f}\".format(distancia_melhor_rota))\n"
      ],
      "execution_count": null,
      "outputs": []
    }
  ]
}